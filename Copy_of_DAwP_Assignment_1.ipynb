{
  "nbformat": 4,
  "nbformat_minor": 0,
  "metadata": {
    "colab": {
      "name": "Copy of DAwP_Assignment_1.ipynb",
      "version": "0.3.2",
      "provenance": [],
      "collapsed_sections": []
    },
    "kernelspec": {
      "name": "python3",
      "display_name": "Python 3"
    }
  },
  "cells": [
    {
      "cell_type": "markdown",
      "metadata": {
        "id": "jjZG7BNlbWtO",
        "colab_type": "text"
      },
      "source": [
        "![](https://i.imgur.com/0AUxkXt.png)"
      ]
    },
    {
      "cell_type": "markdown",
      "metadata": {
        "id": "jbpQzyjqbflM",
        "colab_type": "text"
      },
      "source": [
        "# Assignment 1 - The Hacker Rank\n",
        "\n",
        "HackerRank is a place where programmers from all over the world come together to solve problems in a wide range of Computer Science domains.\n",
        "\n",
        "As you solve more challenges, you earn points and move up the HackerRank Leaderboard.\n",
        "\n",
        "Looking for a job at an awesome company? You can get hired by solving [challenges](https://www.hackerrank.com/jobs/search)!\n",
        "\n",
        "It's cool. Let's establish your knowledge and fight for glory!\n",
        "\n",
        "But before that let's make it clear that.."
      ]
    },
    {
      "cell_type": "markdown",
      "metadata": {
        "id": "-ndmD4naciAN",
        "colab_type": "text"
      },
      "source": [
        "## Note-taking is IMPORTANT\n",
        "\n",
        "Blog: [Why is note-taking important](https://nickblackbourn.com/blog/why-is-note-taking-important/)\n",
        "\n",
        "Note taking isn’t just important for college students, it’s a valuable life skill.\n",
        "\n",
        "Effective note taking helps you to remember information and aids your understanding of that information. \n",
        "\n",
        "**Notes boost your understanding**\n",
        "\n",
        "By making notes, you force yourself to construct a conceptual mental representation of the ideas you are grappling with. It is this process that helps you comprehend the subject matter you are working with.\n",
        "\n",
        "**Notes are a repository of your thinking**\n",
        "\n",
        "When you need to recall something that you came across a while ago, you can go over the main ideas by looking over your notes. This is why good, comprehensive notes are so useful; they are a catalogue of the best ideas you’ve encountered, and what you thought about them.\n",
        "\n",
        "etc.\n",
        "\n",
        "\n",
        "\n",
        "\n",
        "\n",
        "\n",
        "\n"
      ]
    },
    {
      "cell_type": "markdown",
      "metadata": {
        "id": "IGvKPsdVfX-F",
        "colab_type": "text"
      },
      "source": [
        "## Requirements\n",
        "\n",
        "Pick 10 challenges on HackerRank about SQL and 5 about Python in **easy** level:\n",
        "\n",
        "[HackerRank - Domain SQL](https://www.hackerrank.com/domains/sql?filters%5Bdifficulty%5D%5B%5D=easy&filters%5Bsubdomains%5D%5B%5D=select)\n",
        "\n",
        "[HackerRank - Domain Python](https://www.hackerrank.com/domains/python?filters%5Bdifficulty%5D%5B%5D=easy)\n",
        "\n",
        "For each challenge:\n",
        "\n",
        "* Create a markdown cell first that describes the challenge.\n",
        "* Solve the challenge on HackerRank and copy your solution to a code cell below\n",
        "* (Optional) A short description about how you came up with the solution would be awesome."
      ]
    },
    {
      "cell_type": "markdown",
      "metadata": {
        "id": "higGK1Y5iAea",
        "colab_type": "text"
      },
      "source": [
        "## Example"
      ]
    },
    {
      "cell_type": "markdown",
      "metadata": {
        "id": "D2yU2FYDi4tj",
        "colab_type": "text"
      },
      "source": [
        "### SQL"
      ]
    },
    {
      "cell_type": "markdown",
      "metadata": {
        "id": "gu4DDH7Ki77C",
        "colab_type": "text"
      },
      "source": [
        "\n",
        "#### Problem 1\n",
        "\n",
        "Query all columns for all American cities in **CITY** with populations larger than 100000. The CountryCode for America is USA.\n",
        "\n",
        "**Input Format**\n",
        "\n",
        "The **CITY** table is described as follows:\n",
        "\n",
        "| Field | Type |\n",
        "|:----:|:---:|\n",
        "| ID | NUMBER |\n",
        "| NAME | VARCHAR2(17) |\n",
        "| COUNTRYCODE | VARCHAR2(3) |\n",
        "| DISTRICT | VARCHAR2(20) |\n",
        "| POPULATION | NUMBER |"
      ]
    },
    {
      "cell_type": "code",
      "metadata": {
        "id": "hhAwMjyhbT1b",
        "colab_type": "code",
        "colab": {}
      },
      "source": [
        "# Solution\n",
        "# SELECT * from city WHERE population>100000 AND countrycode='USA';"
      ],
      "execution_count": 0,
      "outputs": []
    },
    {
      "cell_type": "markdown",
      "metadata": {
        "id": "0AxyfiJijJ7T",
        "colab_type": "text"
      },
      "source": [
        "### Python"
      ]
    },
    {
      "cell_type": "markdown",
      "metadata": {
        "id": "PEW8LsB5jLqf",
        "colab_type": "text"
      },
      "source": [
        "#### Problem 1\n",
        "\n",
        "**Task** \n",
        "Given an integer, , perform the following conditional actions:\n",
        "\n",
        "* If `n` is odd, print *Weird*\n",
        "* If `n` is even and in the inclusive range of 2 to 5, print *Not Weird*\n",
        "* If `n` is even and in the inclusive range of 6 to 20, print *Weird*\n",
        "* If `n` is even and greater than 20, print *Not Weird*\n",
        "\n",
        "**Input Format**\n",
        "\n",
        "A single line containing a positive integer, .\n",
        "\n",
        "**Output Format**\n",
        "\n",
        "Print Weird if the number is weird; otherwise, print Not Weird."
      ]
    },
    {
      "cell_type": "code",
      "metadata": {
        "id": "JBOxgw0zjLC2",
        "colab_type": "code",
        "colab": {}
      },
      "source": [
        "n = int(input())\n",
        "\n",
        "if n % 2 == 1:\n",
        "    print('Weird')\n",
        "else:\n",
        "    if (n >= 2) and (n <= 5):\n",
        "        print('Not Weird')\n",
        "    elif (n >= 6) and (n <= 20):\n",
        "        print('Weird')\n",
        "    else:\n",
        "        print('Not Weird')"
      ],
      "execution_count": 0,
      "outputs": []
    },
    {
      "cell_type": "markdown",
      "metadata": {
        "id": "a-Q3VE7YkA9A",
        "colab_type": "text"
      },
      "source": [
        "## Your turn\n",
        "\n",
        "Good luck and have fun!"
      ]
    },
    {
      "cell_type": "markdown",
      "metadata": {
        "id": "GjuVV3P05-_T",
        "colab_type": "text"
      },
      "source": [
        "**SQL**"
      ]
    },
    {
      "cell_type": "markdown",
      "metadata": {
        "colab_type": "text",
        "id": "TPONkmrr5LWk"
      },
      "source": [
        "#### Problem 1\n",
        "\n",
        "Query the names of all American cities in **CITY** with populations larger than 120000. The CountryCode for America is USA. \n",
        "\n",
        "**Input Format**\n",
        "\n",
        "The **CITY** table is described as follows:\n",
        "\n",
        "| Field | Type |\n",
        "|:----:|:---:|\n",
        "| ID | NUMBER |\n",
        "| NAME | VARCHAR2(17) |\n",
        "| COUNTRYCODE | VARCHAR2(3) |\n",
        "| DISTRICT | VARCHAR2(20) |\n",
        "| POPULATION | NUMBER |"
      ]
    },
    {
      "cell_type": "code",
      "metadata": {
        "colab_type": "code",
        "id": "Z_tskrda5LWe",
        "colab": {}
      },
      "source": [
        "select NAME from CITY where COUNTRYCODE = 'USA' and POPULATION > 120000;"
      ],
      "execution_count": 0,
      "outputs": []
    },
    {
      "cell_type": "markdown",
      "metadata": {
        "colab_type": "text",
        "id": "MOJdIxrg5LWb"
      },
      "source": [
        "#### Problem 2\n",
        "\n",
        "Query all columns(attributes) for everyrow in **CITY** table\n",
        "\n",
        "**Input Format**\n",
        "\n",
        "The **CITY** table is described as follows:\n",
        "\n",
        "| Field | Type |\n",
        "|:----:|:---:|\n",
        "| ID | NUMBER |\n",
        "| NAME | VARCHAR2(17) |\n",
        "| COUNTRYCODE | VARCHAR2(3) |\n",
        "| DISTRICT | VARCHAR2(20) |\n",
        "| POPULATION | NUMBER |"
      ]
    },
    {
      "cell_type": "code",
      "metadata": {
        "colab_type": "code",
        "id": "SWyyQhIo5LWW",
        "colab": {}
      },
      "source": [
        "select * from CITY;"
      ],
      "execution_count": 0,
      "outputs": []
    },
    {
      "cell_type": "markdown",
      "metadata": {
        "colab_type": "text",
        "id": "rARzWP895LWT"
      },
      "source": [
        "#### Problem 3\n",
        "\n",
        "Query all columns for a city in **CITY** with the ID 1661\n",
        "\n",
        "**Input Format**\n",
        "\n",
        "The **CITY** table is described as follows:\n",
        "\n",
        "| Field | Type |\n",
        "|:----:|:---:|\n",
        "| ID | NUMBER |\n",
        "| NAME | VARCHAR2(17) |\n",
        "| COUNTRYCODE | VARCHAR2(3) |\n",
        "| DISTRICT | VARCHAR2(20) |\n",
        "| POPULATION | NUMBER |"
      ]
    },
    {
      "cell_type": "code",
      "metadata": {
        "colab_type": "code",
        "id": "EwgHQpVF5LWN",
        "colab": {}
      },
      "source": [
        "select * from CITY where ID = 1661;"
      ],
      "execution_count": 0,
      "outputs": []
    },
    {
      "cell_type": "markdown",
      "metadata": {
        "colab_type": "text",
        "id": "yhQAkdpG5LWJ"
      },
      "source": [
        "#### Problem 4\n",
        "\n",
        "Query all attributes of every japanese in the **CITY** table. The COUNTRYCODE for japan is JPN\n",
        "\n",
        "**Input Format**\n",
        "\n",
        "The **CITY** table is described as follows:\n",
        "\n",
        "| Field | Type |\n",
        "|:----:|:---:|\n",
        "| ID | NUMBER |\n",
        "| NAME | VARCHAR2(17) |\n",
        "| COUNTRYCODE | VARCHAR2(3) |\n",
        "| DISTRICT | VARCHAR2(20) |\n",
        "| POPULATION | NUMBER |"
      ]
    },
    {
      "cell_type": "code",
      "metadata": {
        "colab_type": "code",
        "id": "Vwyy5Xi75LWB",
        "colab": {}
      },
      "source": [
        "select * from CITY where COUNTRYCODE = 'JPN';"
      ],
      "execution_count": 0,
      "outputs": []
    },
    {
      "cell_type": "markdown",
      "metadata": {
        "colab_type": "text",
        "id": "tmNsMq2p5LV-"
      },
      "source": [
        "#### Problem 5\n",
        "\n",
        "Query a list of CITY and STATE in **STATION** table\n",
        "\n",
        "**Input Format**\n",
        "\n",
        "The **STATION** table is described as follows:\n",
        "\n",
        "| Field | Type |\n",
        "|:----:|:---:|\n",
        "| ID | NUMBER |\n",
        "| CITY | VARCHAR2(21) |\n",
        "| STATE | VARCHAR2(2) |\n",
        "| LAT_N | NUMBER |\n",
        "| LONG_W | NUMBER |"
      ]
    },
    {
      "cell_type": "code",
      "metadata": {
        "colab_type": "code",
        "id": "U2CSkA6C5LVz",
        "colab": {}
      },
      "source": [
        "select CITY, STATE from STATION;"
      ],
      "execution_count": 0,
      "outputs": []
    },
    {
      "cell_type": "markdown",
      "metadata": {
        "colab_type": "text",
        "id": "6aehAzlO5LVu"
      },
      "source": [
        "#### Problem 6\n",
        "\n",
        "Query a list of CITY names from **STATION** table with even ID number only. You may print results in any order, but must exclude duplicates from your answer\n",
        "\n",
        "**Input Format**\n",
        "\n",
        "The **STATION** table is described as follows:\n",
        "\n",
        "| Field | Type |\n",
        "|:----:|:---:|\n",
        "| ID | NUMBER |\n",
        "| CITY | VARCHAR2(21) |\n",
        "| STATE | VARCHAR2(2) |\n",
        "| LAT_N | NUMBER |\n",
        "| LONG_W | NUMBER |"
      ]
    },
    {
      "cell_type": "code",
      "metadata": {
        "colab_type": "code",
        "id": "JkXLjqgw5LVm",
        "colab": {}
      },
      "source": [
        "/*Oracle support function mod instead of % operation. I use oracle only because it is default environment*/\n",
        "select distinct(CITY) from STATION where MOD(ID,2) = 0;"
      ],
      "execution_count": 0,
      "outputs": []
    },
    {
      "cell_type": "markdown",
      "metadata": {
        "colab_type": "text",
        "id": "Jy4UTGnH5LVj"
      },
      "source": [
        "#### Problem 7\n",
        "\n",
        "Let **N** be the number of CITY entries in STATION, and let **N'** be the number of distinct CITY names in STATION; query the value of **N - N'** from STATION. In other words, find the difference between the total number of CITY entries in the table and the number of distinct CITY entries in the table.\n",
        "\n",
        "**Input Format**\n",
        "\n",
        "The **STATION** table is described as follows:\n",
        "\n",
        "| Field | Type |\n",
        "|:----:|:---:|\n",
        "| ID | NUMBER |\n",
        "| CITY | VARCHAR2(21) |\n",
        "| STATE | VARCHAR2(2) |\n",
        "| LAT_N | NUMBER |\n",
        "| LONG_W | NUMBER |"
      ]
    },
    {
      "cell_type": "code",
      "metadata": {
        "colab_type": "code",
        "id": "orJcA_xJ5LVZ",
        "colab": {}
      },
      "source": [
        "select count(CITY) - count(distinct(CITY)) from STATION;"
      ],
      "execution_count": 0,
      "outputs": []
    },
    {
      "cell_type": "markdown",
      "metadata": {
        "colab_type": "text",
        "id": "JTeBgEb35LVU"
      },
      "source": [
        "#### Problem 8\n",
        "\n",
        "Query the two cities in **STATION** with the shortest and longest CITY names, as well as their respective lengths (i.e.: number of characters in the name). If there is more than one smallest or largest city, choose the one that comes first when ordered alphabetically.\n",
        "\n",
        "**Input Format**\n",
        "\n",
        "The **STATION** table is described as follows:\n",
        "\n",
        "| Field | Type |\n",
        "|:----:|:---:|\n",
        "| ID | NUMBER |\n",
        "| CITY | VARCHAR2(21) |\n",
        "| STATE | VARCHAR2(2) |\n",
        "| LAT_N | NUMBER |\n",
        "| LONG_W | NUMBER |"
      ]
    },
    {
      "cell_type": "code",
      "metadata": {
        "colab_type": "code",
        "id": "qGZmZS1Z5LVJ",
        "colab": {}
      },
      "source": [
        "/*\n",
        "Oracle does not have limit like sql\n",
        "ROWNUM is like limit but not in the exact order i expect\n",
        "So i apply in the exact order i want to limit in nested query\n",
        "*/\n",
        "select CITY, length(CITY)\n",
        "from  \n",
        "( select *\n",
        "  from STATION \n",
        "  order by length(CITY), CITY) \n",
        "where ROWNUM <= 1;\n",
        "\n",
        "select CITY, length(CITY)\n",
        "from  \n",
        "( select *\n",
        "  from STATION \n",
        "  order by length(CITY) DESC, CITY) \n",
        "where ROWNUM <= 1;\n"
      ],
      "execution_count": 0,
      "outputs": []
    },
    {
      "cell_type": "markdown",
      "metadata": {
        "colab_type": "text",
        "id": "A_NE3DHE5LVF"
      },
      "source": [
        "#### Problem 9\n",
        "\n",
        "Query the list of CITY names starting with vowels (i.e., a, e, i, o, or u) from **STATION**. Your result cannot contain duplicates.\n",
        "\n",
        "**Input Format**\n",
        "\n",
        "The **STATION** table is described as follows:\n",
        "\n",
        "| Field | Type |\n",
        "|:----:|:---:|\n",
        "| ID | NUMBER |\n",
        "| CITY | VARCHAR2(21) |\n",
        "| STATE | VARCHAR2(2) |\n",
        "| LAT_N | NUMBER |\n",
        "| LONG_W | NUMBER |"
      ]
    },
    {
      "cell_type": "code",
      "metadata": {
        "colab_type": "code",
        "id": "PLIwCUx85LU0",
        "colab": {}
      },
      "source": [
        "/*\n",
        "Can use or but regex will simplify the query a lot\n",
        "*/\n",
        "select distinct(CITY) from STATION where REGEXP_LIKE(LOWER(CITY),'^[aeiou].');"
      ],
      "execution_count": 0,
      "outputs": []
    },
    {
      "cell_type": "markdown",
      "metadata": {
        "colab_type": "text",
        "id": "bVVAHMLh5LUs"
      },
      "source": [
        "#### Problem 10\n",
        "\n",
        "Query the list of CITY names ending with vowels (a, e, i, o, u) from **STATION**. Your result cannot contain duplicates.\n",
        "\n",
        "**Input Format**\n",
        "\n",
        "The **STATION** table is described as follows:\n",
        "\n",
        "| Field | Type |\n",
        "|:----:|:---:|\n",
        "| ID | NUMBER |\n",
        "| CITY | VARCHAR2(21) |\n",
        "| STATE | VARCHAR2(2) |\n",
        "| LAT_N | NUMBER |\n",
        "| LONG_W | NUMBER |"
      ]
    },
    {
      "cell_type": "code",
      "metadata": {
        "colab_type": "code",
        "id": "j_MxPSVN5LUI",
        "colab": {}
      },
      "source": [
        "/*\n",
        "Same as above\n",
        "*/\n",
        "SELECT DISTINCT(CITY) FROM STATION WHERE REGEXP_LIKE(LOWER(CITY), '.[aeiou]$') ORDER BY CITY;"
      ],
      "execution_count": 0,
      "outputs": []
    },
    {
      "cell_type": "markdown",
      "metadata": {
        "id": "MYqNXz6N6R-V",
        "colab_type": "text"
      },
      "source": [
        "**PYTHON**"
      ]
    },
    {
      "cell_type": "markdown",
      "metadata": {
        "id": "sxoULbgX63hX",
        "colab_type": "text"
      },
      "source": [
        "#### Problem 1\n",
        "\n",
        "Read an **N**  integer\n",
        "\n",
        "\n",
        "Without using any string methods, try to print the following:\n",
        "**123...N**\n",
        "\n",
        "Note that \"...\" represents the values in between.\n",
        "\n",
        "**Input Format**\n",
        "\n",
        "The first line contains an integer **N**\n",
        "\n",
        "\n",
        "**Output Format**\n",
        "\n",
        "Output the answer as explained in the task. "
      ]
    },
    {
      "cell_type": "code",
      "metadata": {
        "id": "-e3akO0Gj_gk",
        "colab_type": "code",
        "colab": {}
      },
      "source": [
        "if __name__ == '__main__':\n",
        "    n = int(input())\n",
        "    for i in range(1, n+1):\n",
        "        print(i, end='')"
      ],
      "execution_count": 0,
      "outputs": []
    },
    {
      "cell_type": "markdown",
      "metadata": {
        "id": "fJwgRLAV7T8B",
        "colab_type": "text"
      },
      "source": [
        "####Problem 2\n",
        "Let's learn about list comprehensions! You are given three integers **X, Y and Z** and representing the dimensions of a cuboid along with an integer **N**. You have to print a list of all possible coordinates given by (i,j,k) on a 3D grid where the sum of i +j +k is not equal to **N**. Here, 0<=i<=X; 0<=j<=Y; 0<=k<=Z\n",
        "\n",
        "**Input Format**\n",
        "\n",
        "Four integers **X, Y, Z and N** each on four separate lines, respectively.\n",
        "\n",
        "**Constraints**\n",
        "\n",
        "Print the list in lexicographic increasing order."
      ]
    },
    {
      "cell_type": "code",
      "metadata": {
        "id": "Cy4kWSUIC_S4",
        "colab_type": "code",
        "colab": {}
      },
      "source": [
        "# The solution is already in the explanation part in the problem statement\n",
        "if __name__ == '__main__':\n",
        "    x = int(input())\n",
        "    y = int(input())\n",
        "    z = int(input())\n",
        "    n = int(input())\n",
        "    print ([ [ i, j, k] for i in range( x + 1) for j in range( y + 1) for k in range( z + 1) if (  (i + j + k)  != n ) ])"
      ],
      "execution_count": 0,
      "outputs": []
    },
    {
      "cell_type": "markdown",
      "metadata": {
        "id": "hF74m4rIC_jg",
        "colab_type": "text"
      },
      "source": [
        "####Problem 3\n",
        "Given the participants' score sheet for your University Sports Day, you are required to find the runner-up score. You are given **n** scores. Store them in a list and find the score of the runner-up.\n",
        "\n",
        "**Input Format**\n",
        "\n",
        "The first line contains n. The second line contains an array **A**[] of **n**\n",
        "\n",
        "integers each separated by a space.\n",
        "\n",
        "**Constraints**\n",
        "2<=n<=10\n",
        "-10<=A[i]<=100\n",
        "\n",
        "**Output Format**\n",
        "\n",
        "Print the runner-up score."
      ]
    },
    {
      "cell_type": "code",
      "metadata": {
        "id": "jCQRA7drDt_D",
        "colab_type": "code",
        "colab": {}
      },
      "source": [
        "if __name__ == '__main__':\n",
        "    n = int(input())\n",
        "    arr = map(int, input().split())\n",
        "\n",
        "    # remove duplicated in the list by using set()\n",
        "    arr = list(set(arr))\n",
        "    # runner up so second last element if we sort ascending\n",
        "    print(sorted(arr)[-2])\n"
      ],
      "execution_count": 0,
      "outputs": []
    },
    {
      "cell_type": "markdown",
      "metadata": {
        "id": "_TbgI5VADuMj",
        "colab_type": "text"
      },
      "source": [
        "####Problem 4\n",
        "Given the names and grades for each student in a Physics class of **N** students, store them in a nested list and print the name(s) of any student(s) having the second lowest grade.\n",
        "\n",
        "**Note**: If there are multiple students with the same grade, order their names alphabetically and print each name on a new line.\n",
        "\n",
        "**Input Format**\n",
        "\n",
        "The first line contains an integer, **N**, the number of students.\n",
        "The **2N** subsequent lines describe each student over **2** lines; the first line contains a student's name, and the second line contains their grade.\n",
        "\n",
        "**Constraints**\n",
        "\n",
        "2<=N<=5\n",
        "\n",
        "There will always be one or more students having the second lowest grade. \n",
        "\n",
        "**Output Format**\n",
        "\n",
        "Print the name(s) of any student(s) having the second lowest grade in Physics; if there are multiple students, order their names alphabetically and print each one on a new line."
      ]
    },
    {
      "cell_type": "code",
      "metadata": {
        "id": "X8OksNVZEh8I",
        "colab_type": "code",
        "colab": {}
      },
      "source": [
        "def duplicates(lst, item): # this function return the index of dulicate element\n",
        "    return [i for i, val in enumerate(lst) if val[1] == item]\n",
        "\n",
        "if __name__ == '__main__':\n",
        "    main_list = []\n",
        "    for _ in range(int(input())):\n",
        "        name = input()\n",
        "        score = float(input())\n",
        "        child_list = []\n",
        "        child_list.append(name)\n",
        "        child_list.append(score)\n",
        "        main_list.append(child_list)\n",
        "    \n",
        "    # sort the list with the score\n",
        "    sorted_score = sorted(main_list, key=lambda arr:arr[1])\n",
        "\n",
        "    \n",
        "    # return index of duplicated second lowest score which is second element\n",
        "    # using set will return arbitrary order, i want to contain the same order\n",
        "    # using ordered dict. In python 3.5, import ordered dict library\n",
        "    indexes = duplicates(sorted_score, list(dict.fromkeys([i[1] for i in sorted_score]))[1])\n",
        "\n",
        "    # sublist, sort with the name then print:\n",
        "    sorted_name = sorted([sorted_score[i] for i in indexes], key=lambda arr:arr[0])\n",
        "\n",
        "    for i in sorted_name:\n",
        "        print(i[0])\n"
      ],
      "execution_count": 0,
      "outputs": []
    },
    {
      "cell_type": "markdown",
      "metadata": {
        "id": "Ly-K1qrJEpcY",
        "colab_type": "text"
      },
      "source": [
        "####Problem 5\n",
        "You are given a string **S** .\n",
        "Your task is to find out whether **S** is a valid regex or not.\n",
        "\n",
        "**Input Format**\n",
        "\n",
        "The first line contains integer **T**, the number of test cases.\n",
        "The next lines **T** contains the string **S**\n",
        "\n",
        "**Constraints**\n",
        "\n",
        "0<=T<=100\n",
        "\n",
        "**Output Format**\n",
        "\n",
        "Print \"True\" or \"False\" for each test case without quotes."
      ]
    },
    {
      "cell_type": "code",
      "metadata": {
        "id": "QSlXL3CAA9OS",
        "colab_type": "code",
        "colab": {}
      },
      "source": [
        "# Simple, just use re built-in library of python\n",
        "# Try catch the compile process of the expression\n",
        "# Can compile mean that expression is valid otherwise invalid\n",
        "\n",
        "import re\n",
        "\n",
        "number_of_test = int(input())\n",
        "\n",
        "for i in range(number_of_test):\n",
        "    try:\n",
        "        re.compile(input())\n",
        "        print(\"True\")\n",
        "    except:\n",
        "        print(\"False\")\n"
      ],
      "execution_count": 0,
      "outputs": []
    }
  ]
}